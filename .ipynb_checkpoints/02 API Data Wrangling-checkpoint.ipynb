{
 "cells": [
  {
   "cell_type": "markdown",
   "metadata": {},
   "source": [
    "This exercise will require you to pull some data from the Qunadl API. Qaundl is currently the most widely used aggregator of financial market data."
   ]
  },
  {
   "cell_type": "markdown",
   "metadata": {},
   "source": [
    "As a first step, you will need to register a free account on the http://www.quandl.com website."
   ]
  },
  {
   "cell_type": "markdown",
   "metadata": {},
   "source": [
    "After you register, you will be provided with a unique API key, that you should store:"
   ]
  },
  {
   "cell_type": "code",
   "execution_count": 11,
   "metadata": {},
   "outputs": [],
   "source": [
    "# Store the API key as a string - according to PEP8, constants are always named in all upper case\n",
    "API_KEY = ''"
   ]
  },
  {
   "cell_type": "markdown",
   "metadata": {},
   "source": [
    "Qaundl has a large number of data sources, but, unfortunately, most of them require a Premium subscription. Still, there are also a good number of free datasets."
   ]
  },
  {
   "cell_type": "markdown",
   "metadata": {},
   "source": [
    "For this mini project, we will focus on equities data from the Frankfurt Stock Exhange (FSE), which is available for free. We'll try and analyze the stock prices of a company called Carl Zeiss Meditec, which manufactures tools for eye examinations, as well as medical lasers for laser eye surgery: https://www.zeiss.com/meditec/int/home.html. The company is listed under the stock ticker AFX_X."
   ]
  },
  {
   "cell_type": "markdown",
   "metadata": {},
   "source": [
    "You can find the detailed Quandl API instructions here: https://docs.quandl.com/docs/time-series"
   ]
  },
  {
   "cell_type": "markdown",
   "metadata": {},
   "source": [
    "While there is a dedicated Python package for connecting to the Quandl API, we would prefer that you use the *requests* package, which can be easily downloaded using *pip* or *conda*. You can find the documentation for the package here: http://docs.python-requests.org/en/master/ "
   ]
  },
  {
   "cell_type": "markdown",
   "metadata": {},
   "source": [
    "Finally, apart from the *requests* package, you are encouraged to not use any third party Python packages, such as *pandas*, and instead focus on what's available in the Python Standard Library (the *collections* module might come in handy: https://pymotw.com/3/collections/ ).\n",
    "Also, since you won't have access to DataFrames, you are encouraged to us Python's native data structures - preferably dictionaries, though some questions can also be answered using lists.\n",
    "You can read more on these data structures here: https://docs.python.org/3/tutorial/datastructures.html"
   ]
  },
  {
   "cell_type": "markdown",
   "metadata": {},
   "source": [
    "Keep in mind that the JSON responses you will be getting from the API map almost one-to-one to Python's dictionaries. Unfortunately, they can be very nested, so make sure you read up on indexing dictionaries in the documentation provided above."
   ]
  },
  {
   "cell_type": "code",
   "execution_count": 2,
   "metadata": {},
   "outputs": [],
   "source": [
    "# First, import the relevant modules\n",
    "import requests\n",
    "import collections\n"
   ]
  },
  {
   "cell_type": "code",
   "execution_count": 3,
   "metadata": {},
   "outputs": [
    {
     "name": "stdout",
     "output_type": "stream",
     "text": [
      "<Response [200]>\n"
     ]
    }
   ],
   "source": [
    "# Now, call the Quandl API and pull out a small sample of the data (only one day) to get a glimpse\n",
    "# into the JSON structure that will be returned\n",
    "url = 'https://www.quandl.com/api/v3/datasets/FSE/AFX_X/data.json'\n",
    "params0 = dict(start_date='2020-11-02', end_date='2020-11-09', api_key=API_KEY)\n",
    "r0 = requests.get(url, params = params0)\n",
    "print(r0)"
   ]
  },
  {
   "cell_type": "code",
   "execution_count": 4,
   "metadata": {
    "scrolled": false
   },
   "outputs": [
    {
     "name": "stdout",
     "output_type": "stream",
     "text": [
      "{\"dataset_data\":{\"limit\":null,\"transform\":null,\"column_index\":null,\"column_names\":[\"Date\",\"Open\",\"High\",\"Low\",\"Close\",\"Change\",\"Traded Volume\",\"Turnover\",\"Last Price of the Day\",\"Daily Traded Units\",\"Daily Turnover\"],\"start_date\":\"2020-11-02\",\"end_date\":\"2020-11-06\",\"frequency\":\"daily\",\"data\":[[\"2020-11-06\",115.2,115.8,114.8,115.1,null,190.0,21831.0,null,null,null],[\"2020-11-05\",114.7,116.2,114.7,115.4,null,382.0,44272.4,null,null,null],[\"2020-11-04\",109.8,113.8,109.8,113.8,null,69.0,7804.7,null,null,null],[\"2020-11-03\",108.4,110.0,108.4,110.0,null,176.0,19259.0,null,null,null],[\"2020-11-02\",111.3,111.6,108.1,108.1,null,362.0,39844.5,null,null,null]],\"collapse\":null,\"order\":null}}\n",
      "\n",
      " {'dataset_data': {'limit': None, 'transform': None, 'column_index': None, 'column_names': ['Date', 'Open', 'High', 'Low', 'Close', 'Change', 'Traded Volume', 'Turnover', 'Last Price of the Day', 'Daily Traded Units', 'Daily Turnover'], 'start_date': '2020-11-02', 'end_date': '2020-11-06', 'frequency': 'daily', 'data': [['2020-11-06', 115.2, 115.8, 114.8, 115.1, None, 190.0, 21831.0, None, None, None], ['2020-11-05', 114.7, 116.2, 114.7, 115.4, None, 382.0, 44272.4, None, None, None], ['2020-11-04', 109.8, 113.8, 109.8, 113.8, None, 69.0, 7804.7, None, None, None], ['2020-11-03', 108.4, 110.0, 108.4, 110.0, None, 176.0, 19259.0, None, None, None], ['2020-11-02', 111.3, 111.6, 108.1, 108.1, None, 362.0, 39844.5, None, None, None]], 'collapse': None, 'order': None}}\n",
      "\n",
      " dict_keys(['dataset_data'])\n",
      "\n",
      " dict_keys(['limit', 'transform', 'column_index', 'column_names', 'start_date', 'end_date', 'frequency', 'data', 'collapse', 'order'])\n"
     ]
    }
   ],
   "source": [
    "# Inspect the JSON structure of the object you created, and take note of how nested it is,\n",
    "# as well as the overall structure\n",
    "\n",
    "print(r0.text)\n",
    "print('\\n', r0.json())\n",
    "json0 = r0.json()\n",
    "print('\\n', json0.keys())\n",
    "dataset_data0 = dict(json0['dataset_data'])\n",
    "print('\\n', dataset_data0.keys())"
   ]
  },
  {
   "cell_type": "markdown",
   "metadata": {},
   "source": [
    "These are your tasks for this mini project:\n",
    "\n",
    "1. Collect data from the Franfurt Stock Exchange, for the ticker AFX_X, for the whole year 2017 (keep in mind that the date format is YYYY-MM-DD).\n",
    "2. Convert the returned JSON object into a Python dictionary.\n",
    "3. Calculate what the highest and lowest opening prices were for the stock in this period.\n",
    "4. What was the largest change in any one day (based on High and Low price)?\n",
    "5. What was the largest change between any two days (based on Closing Price)?\n",
    "6. What was the average daily trading volume during this year?\n",
    "7. (Optional) What was the median trading volume during this year. (Note: you may need to implement your own function for calculating the median.)"
   ]
  },
  {
   "cell_type": "code",
   "execution_count": 5,
   "metadata": {},
   "outputs": [
    {
     "name": "stdout",
     "output_type": "stream",
     "text": [
      "['Date', 'Open', 'High', 'Low', 'Close', 'Change', 'Traded Volume', 'Turnover', 'Last Price of the Day', 'Daily Traded Units', 'Daily Turnover']\n"
     ]
    }
   ],
   "source": [
    "#Collect 2017 data and save as a dict\n",
    "params = dict(start_date='2017-01-01', end_date='2017-12-31', api_key=API_KEY)\n",
    "r = requests.get(url, params=params)\n",
    "json = r.json()\n",
    "data_dict = dict(json['dataset_data'])\n",
    "print(data_dict['column_names'])"
   ]
  },
  {
   "cell_type": "code",
   "execution_count": 6,
   "metadata": {},
   "outputs": [
    {
     "name": "stdout",
     "output_type": "stream",
     "text": [
      "Maximum Opening Price: 53.11 on 2017-12-14\n",
      "Minimum Opening Price: 34.0 on 2017-01-24\n"
     ]
    }
   ],
   "source": [
    "#Calculate opening price min and max\n",
    "openings = {}\n",
    "for lst in data_dict['data']:\n",
    "    date = lst[0]\n",
    "    open_price = lst[1]\n",
    "    if open_price == None:\n",
    "        continue\n",
    "    openings[date] = open_price\n",
    "\n",
    "max_day_open = max(openings, key= lambda key: openings[key])\n",
    "min_day_open = min(openings, key= lambda key: openings[key])\n",
    "\n",
    "print(\"Maximum Opening Price: \"+str(openings[max_day_open])+\" on \"+max_day_open)\n",
    "print(\"Minimum Opening Price: \"+str(openings[min_day_open])+\" on \"+min_day_open)"
   ]
  },
  {
   "cell_type": "code",
   "execution_count": 7,
   "metadata": {},
   "outputs": [
    {
     "name": "stdout",
     "output_type": "stream",
     "text": [
      "Largest Change: 2.81 on 2017-05-11\n"
     ]
    }
   ],
   "source": [
    "#Find day with largest change\n",
    "price_change = {}\n",
    "for lst in data_dict['data']:\n",
    "    date = lst[0]\n",
    "    high = lst[2]\n",
    "    low = lst[3]\n",
    "    if high == None or low == None:\n",
    "        continue\n",
    "    price_change[date] = high - low\n",
    "\n",
    "max_day_change = max(price_change, key= lambda key: price_change[key])\n",
    "\n",
    "print(\"Largest Change: \"+str(round(price_change[max_day_change], 2))+\" on \"+max_day_change)"
   ]
  },
  {
   "cell_type": "code",
   "execution_count": 8,
   "metadata": {},
   "outputs": [
    {
     "name": "stdout",
     "output_type": "stream",
     "text": [
      "Largest change between days (close): 2.56 from 2017-08-08 to 2017-08-09\n"
     ]
    }
   ],
   "source": [
    "#Find largest change between consecutive days' closing prices\n",
    "two_day_diff = {}\n",
    "for i in range(len(data_dict['data'])-1):\n",
    "    day1 = data_dict['data'][i]\n",
    "    day2 = data_dict['data'][(i+1)]\n",
    "    date = (day2[0], day1[0])\n",
    "    day1_close = day1[4]\n",
    "    day2_close = day2[4]\n",
    "    if day1_close==None or day2_close==None:\n",
    "        continue\n",
    "    difference = round(abs(day2_close - day1_close), 2)\n",
    "    two_day_diff[date] = difference\n",
    "\n",
    "max_day_diff = max(two_day_diff, key= lambda key: two_day_diff[key])\n",
    "\n",
    "print(\"Largest change between days (close): \"+str(two_day_diff[max_day_diff])+\" from \"+max_day_diff[0]+\" to \"+max_day_diff[1])"
   ]
  },
  {
   "cell_type": "code",
   "execution_count": 9,
   "metadata": {
    "scrolled": false
   },
   "outputs": [
    {
     "name": "stdout",
     "output_type": "stream",
     "text": [
      "2017 Average daily trading volume: 89124.34\n"
     ]
    }
   ],
   "source": [
    "#Find average daily trading volume\n",
    "daily_vol = []\n",
    "for lst in data_dict['data']:\n",
    "    vol = lst[6]\n",
    "    daily_vol.append(vol)\n",
    "\n",
    "avg_daily_vol = sum(daily_vol)/len(daily_vol)\n",
    "\n",
    "print(\"2017 Average daily trading volume: \"+str(round(avg_daily_vol, 2)))\n"
   ]
  },
  {
   "cell_type": "code",
   "execution_count": 10,
   "metadata": {},
   "outputs": [
    {
     "name": "stdout",
     "output_type": "stream",
     "text": [
      "2017 Median daily trading volume: 76286.0\n"
     ]
    }
   ],
   "source": [
    "#Find median trading volume\n",
    "def get_median(values):\n",
    "    values.sort()\n",
    "    if len(values) % 2 == 0:\n",
    "        half = int(len(values)/2)\n",
    "        med1 = values[half]\n",
    "        med2 = values[half - 1]\n",
    "        median = (med1 + med2) / 2\n",
    "    else:\n",
    "        half = int((len(values)-1)/2)\n",
    "        median = values[half]\n",
    "    return median\n",
    "\n",
    "med_daily_vol = get_median(daily_vol)\n",
    "\n",
    "print(\"2017 Median daily trading volume: \"+str(med_daily_vol))"
   ]
  }
 ],
 "metadata": {
  "kernelspec": {
   "display_name": "Python 3",
   "language": "python",
   "name": "python3"
  },
  "language_info": {
   "codemirror_mode": {
    "name": "ipython",
    "version": 3
   },
   "file_extension": ".py",
   "mimetype": "text/x-python",
   "name": "python",
   "nbconvert_exporter": "python",
   "pygments_lexer": "ipython3",
   "version": "3.7.6"
  }
 },
 "nbformat": 4,
 "nbformat_minor": 2
}
